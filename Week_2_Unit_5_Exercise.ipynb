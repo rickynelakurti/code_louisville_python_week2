{
 "cells": [
  {
   "cell_type": "markdown",
   "metadata": {},
   "source": [
    "Write a program that lets the user input a two-dimensional matrix (Hint: you could use a list of lists to store the matrix). The program should first ask the user how many rows and columns the matrix should contain. Next, the program should ask the user for the elements of the matrix. Your program should read the values from the user row by row. If, for example, the matrix has the dimension 2 by 3, the values should be read as follows:\n",
    "\n",
    "First row, first value\n",
    "First row, second value\n",
    "First row, third value\n",
    "Second row, first value\n",
    "Second row, second value\n",
    "Second row, third value\n",
    "\n",
    "Finally, the program should calculate and print the sums of the values in each row."
   ]
  },
  {
   "cell_type": "code",
   "execution_count": 3,
   "metadata": {},
   "outputs": [
    {
     "name": "stdout",
     "output_type": "stream",
     "text": [
      "Sum of row: 4\n",
      "Sum of row: 25\n",
      "Sum of row: 6\n",
      "Sum of row: 33\n"
     ]
    }
   ],
   "source": [
    "rows = int(input(\"please input the number of rows: \"))\n",
    "columns = int(input(\"please input the number of columns: \"))\n",
    "matrix = []\n",
    "\n",
    "for r in range(rows):\n",
    "    row = []\n",
    "    for c in range(columns):\n",
    "        value = int(input(\"Enter the value for this row: \"))\n",
    "        row.append(value)\n",
    "    matrix.append(row)\n",
    "\n",
    "for r in range(rows):\n",
    "    x = sum(matrix[r])\n",
    "    print(\"Sum of row:\", x)"
   ]
  }
 ],
 "metadata": {
  "kernelspec": {
   "display_name": "Python 3",
   "language": "python",
   "name": "python3"
  },
  "language_info": {
   "codemirror_mode": {
    "name": "ipython",
    "version": 3
   },
   "file_extension": ".py",
   "mimetype": "text/x-python",
   "name": "python",
   "nbconvert_exporter": "python",
   "pygments_lexer": "ipython3",
   "version": "3.11.4"
  },
  "orig_nbformat": 4
 },
 "nbformat": 4,
 "nbformat_minor": 2
}
