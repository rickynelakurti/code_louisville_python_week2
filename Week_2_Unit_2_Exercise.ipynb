{
 "cells": [
  {
   "cell_type": "markdown",
   "metadata": {},
   "source": [
    "Below you find a code snippet to create a Python list containing the titles of all Star Wars movies. The list contains:\n",
    "\n",
    "A list containing the titles of the prequel trilogy: The Phantom Menace, Attack of the Clones, Revenge of the Sith\n",
    "A list containing the titles of the original trilogy: A New Hope, The Empire Strikes Back, Return of the Jedi,\n",
    "A list containing the titles of the sequel trilogy: The Force Awakens, The Last Jedi, The Rise of Skywalker\n",
    "Code snippet:\n",
    "\n",
    "star_wars_movies = [  \n",
    "[\"The Phantom Menace\", \"Attack of the Clones\", \"Revenge of the Sith\"],  \n",
    "[\"A New Hope\", \"The Empire Strikes Back\", \"Return of the Jedi\"],   \n",
    "[\"The Force Awakens\", \"The Last Jedi\", \"The Rise of Skywalker\"],\n",
    "]\n",
    "\n",
    "Write a program that asks the user for a number of the trilogy (1, 2 or 3) and the number of the film in this trilogy (1, 2 or 3). Print the title of the film corresponding to the user selection."
   ]
  },
  {
   "cell_type": "code",
   "execution_count": 47,
   "metadata": {},
   "outputs": [
    {
     "name": "stdout",
     "output_type": "stream",
     "text": [
      "The Last Jedi\n"
     ]
    }
   ],
   "source": [
    "star_wars_movies = [  \n",
    "[\"The Phantom Menace\", \"Attack of the Clones\", \"Revenge of the Sith\"],  \n",
    "[\"A New Hope\", \"The Empire Strikes Back\", \"Return of the Jedi\"],   \n",
    "[\"The Force Awakens\", \"The Last Jedi\", \"The Rise of Skywalker\"],\n",
    "]\n",
    "\n",
    "prequel_trilogy = star_wars_movies[0]\n",
    "original_trilogy = star_wars_movies[1]\n",
    "sequel_trilogy = star_wars_movies[2]\n",
    "\n",
    "trilogy = int(input(\"Please input a trilogy number: \"))\n",
    "film = int(input(\"Please input the number of the film in this trilogy: \"))\n",
    "selected_movie = \"\"\n",
    "\n",
    "\n",
    "if trilogy == 1:\n",
    "    if film == 1:\n",
    "        selected_movie = prequel_trilogy[0]\n",
    "    elif film == 2:\n",
    "        selected_movie = prequel_trilogy[1]\n",
    "    else:\n",
    "        selected_movie = prequel_trilogy[2]\n",
    "elif trilogy == 2:\n",
    "    if film == 1:\n",
    "        selected_movie = original_trilogy[0]\n",
    "    elif film == 2:\n",
    "        selected_movie = original_trilogy[1]\n",
    "    else:\n",
    "        selected_movie = original_trilogy[2]\n",
    "else: \n",
    "    if film == 1:\n",
    "        selected_movie = sequel_trilogy[0]\n",
    "    elif film == 2:\n",
    "        selected_movie = sequel_trilogy[1]\n",
    "    else:\n",
    "        selected_movie = sequel_trilogy[2]\n",
    "\n",
    "print(selected_movie)"
   ]
  }
 ],
 "metadata": {
  "kernelspec": {
   "display_name": "Python 3",
   "language": "python",
   "name": "python3"
  },
  "language_info": {
   "codemirror_mode": {
    "name": "ipython",
    "version": 3
   },
   "file_extension": ".py",
   "mimetype": "text/x-python",
   "name": "python",
   "nbconvert_exporter": "python",
   "pygments_lexer": "ipython3",
   "version": "3.11.4"
  },
  "orig_nbformat": 4
 },
 "nbformat": 4,
 "nbformat_minor": 2
}
