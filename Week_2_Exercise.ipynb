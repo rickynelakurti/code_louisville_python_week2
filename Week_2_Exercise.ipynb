{
 "cells": [
  {
   "cell_type": "markdown",
   "metadata": {},
   "source": [
    "In this exercise you are going to simulate a sales and operations planning using the zero stock level strategy. Write a Python program that asks the user to enter the following data:\n",
    "\n",
    "    An initial stock level for a product\n",
    "    The number of month(s) to plan\n",
    "    The planned sales quantity for each month\n",
    "\n",
    "Based on this data, calculate the required production quantity as follows:\n",
    "\n",
    "    If the sales quantity is smaller than the stock level of the previous month, the production quantity is 0\n",
    "    If the sales quantity is larger than the stock level of the previous month, the production quantity is this difference"
   ]
  },
  {
   "cell_type": "code",
   "execution_count": 7,
   "metadata": {},
   "outputs": [
    {
     "name": "stdout",
     "output_type": "stream",
     "text": [
      "The production quantity for month 1 is 5\n",
      "The production quantity for month 2 is 45\n"
     ]
    }
   ],
   "source": [
    "stock_level = int(input(\"Please input the initial stock level: \"))\n",
    "plan_months = int(input(\"Please input the number of months to plan: \"))\n",
    "\n",
    "sales_data = []\n",
    "\n",
    "for i in range(plan_months):\n",
    "    sales_quantity = int(input(f\"Please input the planned sales quantity for month {i+1}: \"))\n",
    "    sales_data.append(sales_quantity)\n",
    "\n",
    "for i in range(plan_months):\n",
    "    if sales_data[i] < stock_level:\n",
    "        print(f\"The production quantity for month {i+1} is 0.\")\n",
    "        stock_level -= sales_data[i]\n",
    "    else:\n",
    "        print(\"The production quantity for month\", i+1, \"is\", sales_data[i] - stock_level)\n",
    "        stock_level = 0"
   ]
  }
 ],
 "metadata": {
  "kernelspec": {
   "display_name": "Python 3",
   "language": "python",
   "name": "python3"
  },
  "language_info": {
   "codemirror_mode": {
    "name": "ipython",
    "version": 3
   },
   "file_extension": ".py",
   "mimetype": "text/x-python",
   "name": "python",
   "nbconvert_exporter": "python",
   "pygments_lexer": "ipython3",
   "version": "3.11.4"
  },
  "orig_nbformat": 4
 },
 "nbformat": 4,
 "nbformat_minor": 2
}
